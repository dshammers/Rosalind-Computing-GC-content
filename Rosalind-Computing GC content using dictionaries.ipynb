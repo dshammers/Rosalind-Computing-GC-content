{
 "cells": [
  {
   "cell_type": "code",
   "execution_count": 59,
   "metadata": {},
   "outputs": [],
   "source": [
    "def pair_id_with_seq(f):\n",
    "    id_list=[]\n",
    "    seq_list=[]\n",
    "    seq=''\n",
    "    for i in f:\n",
    "        line=i.strip('\\n')\n",
    "        if line.startswith('>'):\n",
    "            if seq:\n",
    "                seq_list.append(seq)\n",
    "                seq=''\n",
    "            id_list.append(line)\n",
    "        else:\n",
    "            seq+=line\n",
    "    seq_list.append(seq)\n",
    "    named_seq=dict(zip(id_list,seq_list))\n",
    "    return named_seq"
   ]
  },
  {
   "cell_type": "code",
   "execution_count": 91,
   "metadata": {},
   "outputs": [],
   "source": [
    "def highest_gc_percent(dict):\n",
    "    largest_fraction_id=''\n",
    "    gc_fraction=0\n",
    "    for key,value in dict.items():\n",
    "        current_fraction=(value.count('G') + value.count('C'))/len(value)\n",
    "        if current_fraction > gc_fraction:\n",
    "            largest_fraction_id=key\n",
    "            gc_fraction=current_fraction\n",
    "    return largest_fraction_id,gc_fraction*100"
   ]
  },
  {
   "cell_type": "code",
   "execution_count": 92,
   "metadata": {},
   "outputs": [
    {
     "name": "stdout",
     "output_type": "stream",
     "text": [
      ">Rosalind_1317\n",
      "52.689352360043905\n"
     ]
    }
   ],
   "source": [
    "with open(r\"C:\\Users\\Scott\\OneDrive\\Desktop\\rosalind_gc.txt\",'r') as f:\n",
    "    f=f.readlines()\n",
    "    labeled_seq=pair_id_with_seq(f)\n",
    "    fraction_id,gc_percentage=highest_gc_percent(labeled_seq)\n",
    "    print (fraction_id)\n",
    "    print (gc_percentage)"
   ]
  },
  {
   "cell_type": "code",
   "execution_count": null,
   "metadata": {},
   "outputs": [],
   "source": []
  }
 ],
 "metadata": {
  "kernelspec": {
   "display_name": "Python 3",
   "language": "python",
   "name": "python3"
  },
  "language_info": {
   "codemirror_mode": {
    "name": "ipython",
    "version": 3
   },
   "file_extension": ".py",
   "mimetype": "text/x-python",
   "name": "python",
   "nbconvert_exporter": "python",
   "pygments_lexer": "ipython3",
   "version": "3.12.3"
  }
 },
 "nbformat": 4,
 "nbformat_minor": 2
}

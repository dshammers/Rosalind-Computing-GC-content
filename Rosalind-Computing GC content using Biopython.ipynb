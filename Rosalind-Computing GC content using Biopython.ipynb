{
 "cells": [
  {
   "cell_type": "code",
   "execution_count": 8,
   "metadata": {},
   "outputs": [
    {
     "name": "stdout",
     "output_type": "stream",
     "text": [
      "Rosalind_7987\n",
      "50.28058361391695\n",
      "Rosalind_1317\n",
      "52.689352360043905\n",
      "Rosalind_5741\n",
      "52.47191011235955\n",
      "Rosalind_3482\n",
      "50.05086469989827\n",
      "Rosalind_9405\n",
      "48.731501057082454\n",
      "Rosalind_4301\n",
      "49.32221063607925\n",
      "Rosalind_0472\n",
      "46.973365617433416\n",
      "Rosalind_9355\n",
      "47.73869346733669\n"
     ]
    }
   ],
   "source": [
    "from Bio import SeqIO,SeqUtils\n",
    "with open(r\"C:\\Users\\Scott\\OneDrive\\Desktop\\rosalind_gc.txt\") as f:\n",
    "    for i in SeqIO.parse(f,'fasta'):\n",
    "        print (i.id)\n",
    "        print (SeqUtils.gc_fraction(i)*100)"
   ]
  },
  {
   "cell_type": "code",
   "execution_count": null,
   "metadata": {},
   "outputs": [],
   "source": []
  }
 ],
 "metadata": {
  "kernelspec": {
   "display_name": "Python 3",
   "language": "python",
   "name": "python3"
  },
  "language_info": {
   "codemirror_mode": {
    "name": "ipython",
    "version": 3
   },
   "file_extension": ".py",
   "mimetype": "text/x-python",
   "name": "python",
   "nbconvert_exporter": "python",
   "pygments_lexer": "ipython3",
   "version": "3.12.3"
  }
 },
 "nbformat": 4,
 "nbformat_minor": 2
}
